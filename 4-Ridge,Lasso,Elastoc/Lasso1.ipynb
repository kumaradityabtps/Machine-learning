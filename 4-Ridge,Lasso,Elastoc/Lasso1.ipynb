{
 "cells": [
  {
   "cell_type": "code",
   "execution_count": 16,
   "id": "20dcdbae",
   "metadata": {},
   "outputs": [],
   "source": [
    "import numpy as np\n",
    "import pandas as pd\n",
    "import matplotlib.pyplot as plt"
   ]
  },
  {
   "cell_type": "code",
   "execution_count": 17,
   "id": "c656a96a",
   "metadata": {},
   "outputs": [],
   "source": [
    "from sklearn.datasets import load_diabetes\n",
    "from sklearn.model_selection import train_test_split\n",
    "from sklearn.linear_model import Lasso, LinearRegression\n",
    "from sklearn.metrics import mean_squared_error, r2_score"
   ]
  },
  {
   "cell_type": "code",
   "execution_count": 18,
   "id": "4716e287",
   "metadata": {},
   "outputs": [],
   "source": [
    "diabetes = load_diabetes()\n",
    "\n",
    "data = pd.DataFrame(diabetes.data, columns=diabetes.feature_names)\n",
    "data['target'] = diabetes.target"
   ]
  },
  {
   "cell_type": "code",
   "execution_count": 19,
   "id": "79f0d7e9",
   "metadata": {},
   "outputs": [
    {
     "data": {
      "text/html": [
       "<div>\n",
       "<style scoped>\n",
       "    .dataframe tbody tr th:only-of-type {\n",
       "        vertical-align: middle;\n",
       "    }\n",
       "\n",
       "    .dataframe tbody tr th {\n",
       "        vertical-align: top;\n",
       "    }\n",
       "\n",
       "    .dataframe thead th {\n",
       "        text-align: right;\n",
       "    }\n",
       "</style>\n",
       "<table border=\"1\" class=\"dataframe\">\n",
       "  <thead>\n",
       "    <tr style=\"text-align: right;\">\n",
       "      <th></th>\n",
       "      <th>age</th>\n",
       "      <th>sex</th>\n",
       "      <th>bmi</th>\n",
       "      <th>bp</th>\n",
       "      <th>s1</th>\n",
       "      <th>s2</th>\n",
       "      <th>s3</th>\n",
       "      <th>s4</th>\n",
       "      <th>s5</th>\n",
       "      <th>s6</th>\n",
       "      <th>target</th>\n",
       "    </tr>\n",
       "  </thead>\n",
       "  <tbody>\n",
       "    <tr>\n",
       "      <th>0</th>\n",
       "      <td>0.038076</td>\n",
       "      <td>0.050680</td>\n",
       "      <td>0.061696</td>\n",
       "      <td>0.021872</td>\n",
       "      <td>-0.044223</td>\n",
       "      <td>-0.034821</td>\n",
       "      <td>-0.043401</td>\n",
       "      <td>-0.002592</td>\n",
       "      <td>0.019907</td>\n",
       "      <td>-0.017646</td>\n",
       "      <td>151.0</td>\n",
       "    </tr>\n",
       "    <tr>\n",
       "      <th>1</th>\n",
       "      <td>-0.001882</td>\n",
       "      <td>-0.044642</td>\n",
       "      <td>-0.051474</td>\n",
       "      <td>-0.026328</td>\n",
       "      <td>-0.008449</td>\n",
       "      <td>-0.019163</td>\n",
       "      <td>0.074412</td>\n",
       "      <td>-0.039493</td>\n",
       "      <td>-0.068332</td>\n",
       "      <td>-0.092204</td>\n",
       "      <td>75.0</td>\n",
       "    </tr>\n",
       "    <tr>\n",
       "      <th>2</th>\n",
       "      <td>0.085299</td>\n",
       "      <td>0.050680</td>\n",
       "      <td>0.044451</td>\n",
       "      <td>-0.005670</td>\n",
       "      <td>-0.045599</td>\n",
       "      <td>-0.034194</td>\n",
       "      <td>-0.032356</td>\n",
       "      <td>-0.002592</td>\n",
       "      <td>0.002861</td>\n",
       "      <td>-0.025930</td>\n",
       "      <td>141.0</td>\n",
       "    </tr>\n",
       "    <tr>\n",
       "      <th>3</th>\n",
       "      <td>-0.089063</td>\n",
       "      <td>-0.044642</td>\n",
       "      <td>-0.011595</td>\n",
       "      <td>-0.036656</td>\n",
       "      <td>0.012191</td>\n",
       "      <td>0.024991</td>\n",
       "      <td>-0.036038</td>\n",
       "      <td>0.034309</td>\n",
       "      <td>0.022688</td>\n",
       "      <td>-0.009362</td>\n",
       "      <td>206.0</td>\n",
       "    </tr>\n",
       "    <tr>\n",
       "      <th>4</th>\n",
       "      <td>0.005383</td>\n",
       "      <td>-0.044642</td>\n",
       "      <td>-0.036385</td>\n",
       "      <td>0.021872</td>\n",
       "      <td>0.003935</td>\n",
       "      <td>0.015596</td>\n",
       "      <td>0.008142</td>\n",
       "      <td>-0.002592</td>\n",
       "      <td>-0.031988</td>\n",
       "      <td>-0.046641</td>\n",
       "      <td>135.0</td>\n",
       "    </tr>\n",
       "  </tbody>\n",
       "</table>\n",
       "</div>"
      ],
      "text/plain": [
       "        age       sex       bmi        bp        s1        s2        s3  \\\n",
       "0  0.038076  0.050680  0.061696  0.021872 -0.044223 -0.034821 -0.043401   \n",
       "1 -0.001882 -0.044642 -0.051474 -0.026328 -0.008449 -0.019163  0.074412   \n",
       "2  0.085299  0.050680  0.044451 -0.005670 -0.045599 -0.034194 -0.032356   \n",
       "3 -0.089063 -0.044642 -0.011595 -0.036656  0.012191  0.024991 -0.036038   \n",
       "4  0.005383 -0.044642 -0.036385  0.021872  0.003935  0.015596  0.008142   \n",
       "\n",
       "         s4        s5        s6  target  \n",
       "0 -0.002592  0.019907 -0.017646   151.0  \n",
       "1 -0.039493 -0.068332 -0.092204    75.0  \n",
       "2 -0.002592  0.002861 -0.025930   141.0  \n",
       "3  0.034309  0.022688 -0.009362   206.0  \n",
       "4 -0.002592 -0.031988 -0.046641   135.0  "
      ]
     },
     "execution_count": 19,
     "metadata": {},
     "output_type": "execute_result"
    }
   ],
   "source": [
    "data.head()"
   ]
  },
  {
   "cell_type": "code",
   "execution_count": 20,
   "id": "565b37f8",
   "metadata": {},
   "outputs": [],
   "source": [
    "X = data.drop('target',axis=1)\n",
    "y = data['target']\n",
    "\n",
    "X_train, X_test, y_train, y_test = train_test_split(X, y, test_size=0.2, random_state=42) "
   ]
  },
  {
   "cell_type": "markdown",
   "id": "8028b3ee",
   "metadata": {},
   "source": [
    "## Applying Linear Regression"
   ]
  },
  {
   "cell_type": "code",
   "execution_count": 21,
   "id": "fde86bd5",
   "metadata": {},
   "outputs": [],
   "source": [
    "lr = LinearRegression()\n",
    "\n",
    "lr.fit(X_train, y_train)\n",
    "\n",
    "y_pred = lr.predict(X_test)"
   ]
  },
  {
   "cell_type": "code",
   "execution_count": 22,
   "id": "76c11caf",
   "metadata": {},
   "outputs": [
    {
     "data": {
      "text/plain": [
       "array([139.5475584 , 179.51720835, 134.03875572, 291.41702925,\n",
       "       123.78965872,  92.1723465 , 258.23238899, 181.33732057,\n",
       "        90.22411311, 108.63375858,  94.13865744, 168.43486358,\n",
       "        53.5047888 , 206.63081659, 100.12925869, 130.66657085,\n",
       "       219.53071499, 250.7803234 , 196.3688346 , 218.57511815,\n",
       "       207.35050182,  88.48340941,  70.43285917, 188.95914235,\n",
       "       154.8868162 , 159.36170122, 188.31263363, 180.39094033,\n",
       "        47.99046561, 108.97453871, 174.77897633,  86.36406656,\n",
       "       132.95761215, 184.53819483, 173.83220911, 190.35858492,\n",
       "       124.4156176 , 119.65110656, 147.95168682,  59.05405241,\n",
       "        71.62331856, 107.68284704, 165.45365458, 155.00975931,\n",
       "       171.04799096,  61.45761356,  71.66672581, 114.96732206,\n",
       "        51.57975523, 167.57599528, 152.52291955,  62.95568515,\n",
       "       103.49741722, 109.20751489, 175.64118426, 154.60296242,\n",
       "        94.41704366, 210.74209145, 120.2566205 ,  77.61585399,\n",
       "       187.93203995, 206.49337474, 140.63167076, 105.59678023,\n",
       "       130.70432536, 202.18534537, 171.13039501, 164.91423047,\n",
       "       124.72472569, 144.81030894, 181.99635452, 199.41369642,\n",
       "       234.21436188, 145.95665512,  79.86703276, 157.36941275,\n",
       "       192.74412541, 208.89814032, 158.58722555, 206.02195855,\n",
       "       107.47971675, 140.93598906,  54.82129332,  55.92573195,\n",
       "       115.01180018,  78.95584188,  81.56087285,  54.37997256,\n",
       "       166.2543518 ])"
      ]
     },
     "execution_count": 22,
     "metadata": {},
     "output_type": "execute_result"
    }
   ],
   "source": [
    "\n",
    "y_pred"
   ]
  },
  {
   "cell_type": "code",
   "execution_count": 23,
   "id": "34d97a9e",
   "metadata": {},
   "outputs": [
    {
     "name": "stdout",
     "output_type": "stream",
     "text": [
      "Mean squared Error: 2900.1936284934814\n",
      "R^2 score: 0.4526027629719195\n"
     ]
    }
   ],
   "source": [
    "mse = mean_squared_error(y_test, y_pred)\n",
    "r2 = r2_score(y_test, y_pred)\n",
    "\n",
    "print(f\"Mean squared Error: {mse}\")\n",
    "print(f\"R^2 score: {r2}\")"
   ]
  },
  {
   "cell_type": "code",
   "execution_count": 24,
   "id": "e03205f8",
   "metadata": {},
   "outputs": [],
   "source": [
    "\n",
    "# Display the coefficients\n",
    "coef = pd.Series(lr.coef_, index=X.columns)"
   ]
  },
  {
   "cell_type": "code",
   "execution_count": 26,
   "id": "facce61e",
   "metadata": {},
   "outputs": [
    {
     "data": {
      "text/plain": [
       "age     37.904021\n",
       "sex   -241.964362\n",
       "bmi    542.428759\n",
       "bp     347.703844\n",
       "s1    -931.488846\n",
       "s2     518.062277\n",
       "s3     163.419983\n",
       "s4     275.317902\n",
       "s5     736.198859\n",
       "s6      48.670657\n",
       "dtype: float64"
      ]
     },
     "execution_count": 26,
     "metadata": {},
     "output_type": "execute_result"
    }
   ],
   "source": [
    "coef"
   ]
  },
  {
   "cell_type": "markdown",
   "id": "688d55af",
   "metadata": {},
   "source": [
    "## applying lasso"
   ]
  },
  {
   "cell_type": "code",
   "execution_count": 27,
   "id": "7f20c966",
   "metadata": {},
   "outputs": [],
   "source": [
    "lasso = Lasso(alpha=0.1)\n",
    "\n",
    "lasso.fit(X_train, y_train)\n",
    "\n",
    "y_pred = lasso.predict(X_test)"
   ]
  },
  {
   "cell_type": "code",
   "execution_count": 32,
   "id": "44c6b77c",
   "metadata": {},
   "outputs": [
    {
     "name": "stdout",
     "output_type": "stream",
     "text": [
      "Mean Squared Error: 2798.1934851697188\n",
      "R^2 Score: 0.4718547867276227\n"
     ]
    }
   ],
   "source": [
    "mse = mean_squared_error(y_test, y_pred)\n",
    "r2 = r2_score(y_test, y_pred)\n",
    "\n",
    "print(f\"Mean Squared Error: {mse}\")\n",
    "print(f\"R^2 Score: {r2}\")"
   ]
  },
  {
   "cell_type": "code",
   "execution_count": 31,
   "id": "e7614a04",
   "metadata": {},
   "outputs": [],
   "source": [
    "# Display the coefficients\n",
    "coef = pd.Series(lasso.coef_, index=X.columns)"
   ]
  },
  {
   "cell_type": "code",
   "execution_count": 30,
   "id": "7b4c8fe5",
   "metadata": {},
   "outputs": [
    {
     "data": {
      "text/plain": [
       "np.float64(151.57485282893947)"
      ]
     },
     "execution_count": 30,
     "metadata": {},
     "output_type": "execute_result"
    }
   ],
   "source": [
    "lasso.intercept_"
   ]
  },
  {
   "cell_type": "code",
   "execution_count": 33,
   "id": "2deeeac4",
   "metadata": {},
   "outputs": [
    {
     "data": {
      "text/plain": [
       "age      0.000000\n",
       "sex   -152.664779\n",
       "bmi    552.697775\n",
       "bp     303.365158\n",
       "s1     -81.365007\n",
       "s2      -0.000000\n",
       "s3    -229.255776\n",
       "s4       0.000000\n",
       "s5     447.919525\n",
       "s6      29.642617\n",
       "dtype: float64"
      ]
     },
     "execution_count": 33,
     "metadata": {},
     "output_type": "execute_result"
    }
   ],
   "source": [
    "coef"
   ]
  },
  {
   "cell_type": "code",
   "execution_count": null,
   "id": "016c7130",
   "metadata": {},
   "outputs": [],
   "source": []
  }
 ],
 "metadata": {
  "kernelspec": {
   "display_name": "Python 3",
   "language": "python",
   "name": "python3"
  },
  "language_info": {
   "codemirror_mode": {
    "name": "ipython",
    "version": 3
   },
   "file_extension": ".py",
   "mimetype": "text/x-python",
   "name": "python",
   "nbconvert_exporter": "python",
   "pygments_lexer": "ipython3",
   "version": "3.13.1"
  }
 },
 "nbformat": 4,
 "nbformat_minor": 5
}
